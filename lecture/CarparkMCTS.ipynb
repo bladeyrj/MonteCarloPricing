{
 "cells": [
  {
   "cell_type": "markdown",
   "metadata": {},
   "source": [
    "#### Import the requited modules"
   ]
  },
  {
   "cell_type": "code",
   "execution_count": 1,
   "metadata": {},
   "outputs": [],
   "source": [
    "import pandas as pd\n",
    "import math\n",
    "from datetime import datetime\n",
    "from datetime import timedelta"
   ]
  },
  {
   "cell_type": "markdown",
   "metadata": {},
   "source": [
    "#### Load data set"
   ]
  },
  {
   "cell_type": "code",
   "execution_count": 3,
   "metadata": {},
   "outputs": [],
   "source": [
    "hourly_data = pd.read_csv('Hourly_ReGen.csv', header=0, index_col=0)\n",
    "monthly_data = pd.read_csv('MonthlyFloating_ReGen.csv', header=0, index_col=0)"
   ]
  },
  {
   "cell_type": "markdown",
   "metadata": {},
   "source": [
    "#### Set the unchanged parameters and define initial state"
   ]
  },
  {
   "cell_type": "code",
   "execution_count": 3,
   "metadata": {},
   "outputs": [],
   "source": [
    "NS=40;NM=20;Period=15\n",
    "state={'nM':20,'nH':0}#20 monthly users, 0 hourly users"
   ]
  },
  {
   "cell_type": "markdown",
   "metadata": {},
   "source": [
    "#### Define the trees of weekday and weekend  \n",
    "#### The length of the dictionary is N+1 (N nodes + 'DayOfWeek')  \n",
    "'DayOfWeek' to denote the type of tree"
   ]
  },
  {
   "cell_type": "code",
   "execution_count": 4,
   "metadata": {},
   "outputs": [
    {
     "name": "stdout",
     "output_type": "stream",
     "text": [
      "{0: {'Time': datetime.datetime(1900, 1, 1, 0, 0), 'Child': [], 'State': {'nM': 20, 'nH': 0}, 'Type': 'D', 'n': 0, 'V': 0}, 'DayOfWeek': {1: 1, 2: 1, 3: 1, 4: 1, 5: 1, 6: 0, 7: 0}}\n"
     ]
    },
    {
     "data": {
      "text/plain": [
       "2"
      ]
     },
     "execution_count": 4,
     "metadata": {},
     "output_type": "execute_result"
    }
   ],
   "source": [
    "#0 means root node\n",
    "weekday_tree={0:{'Time':datetime.strptime('12:0:0 AM','%I:%M:%S %p'),'Child':[],'State':state,\n",
    "                 'Type':'D','n':0,'V':0},'DayOfWeek':{1:1,2:1,3:1,4:1,5:1,6:0,7:0}}\n",
    "weekend_tree={0:{'Time':datetime.strptime('12:0:0 AM','%I:%M:%S %p'),'Child':[],'State':state,\n",
    "                 'Type':'D','n':0,'V':0},'DayOfWeek':{1:0,2:0,3:0,4:0,5:0,6:1,7:1}}\n",
    "print(weekday_tree)\n",
    "len(weekday_tree)\n",
    "#current time\n",
    "#if\n",
    "#type: decision node;v:v value"
   ]
  },
  {
   "cell_type": "markdown",
   "metadata": {},
   "source": [
    "#### Define a function to expand a tree from a given decision node  \n",
    "Add two state-of-nature nodes (options) to the tree only if the focal node has no children"
   ]
  },
  {
   "cell_type": "code",
   "execution_count": 5,
   "metadata": {},
   "outputs": [
    {
     "name": "stdout",
     "output_type": "stream",
     "text": [
      "{0: {'Time': datetime.datetime(1900, 1, 1, 0, 0), 'Child': [1, 2], 'State': {'nM': 20, 'nH': 0}, 'Type': 'D', 'n': 0, 'V': 0}, 'DayOfWeek': {1: 1, 2: 1, 3: 1, 4: 1, 5: 1, 6: 0, 7: 0}, 1: {'Time': datetime.datetime(1900, 1, 1, 0, 0), 'Child': [], 'Parent': 0, 'Decision': 'Available', 'Type': 'S', 'n': 0, 'V': 0, 'UCB': inf}, 2: {'Time': datetime.datetime(1900, 1, 1, 0, 0), 'Child': [], 'Parent': 0, 'Decision': 'Full', 'Type': 'S', 'n': 0, 'V': 0, 'UCB': inf}}\n"
     ]
    },
    {
     "data": {
      "text/plain": [
       "4"
      ]
     },
     "execution_count": 5,
     "metadata": {},
     "output_type": "execute_result"
    }
   ],
   "source": [
    "def Expand(tree, node):\n",
    "    if len(tree[node]['Child'])==0:\n",
    "        tree[len(tree)-1]={'Time':tree[node]['Time'],'Child':[],'Parent':node,\n",
    "                           'Decision':'Available','Type':'S','n':0,'V':0,'UCB':float('inf')}\n",
    "        tree[len(tree)-1]={'Time':tree[node]['Time'],'Child':[],'Parent':node,\n",
    "                           'Decision':'Full','Type':'S','n':0,'V':0,'UCB':float('inf')}\n",
    "        tree[node]['Child']=[len(tree)-3,len(tree)-2]\n",
    "Expand(weekday_tree,0)\n",
    "print(weekday_tree)\n",
    "len(weekday_tree)"
   ]
  },
  {
   "cell_type": "markdown",
   "metadata": {},
   "source": [
    "#### Define a function to build a tree from a node\n",
    "Tree: the tree selected to be built;  \n",
    "Node: the node to be started with;  \n",
    "k: the number of simulations"
   ]
  },
  {
   "cell_type": "code",
   "execution_count": 6,
   "metadata": {},
   "outputs": [],
   "source": [
    "def BuildTree(tree, node, k):\n",
    "    day=0 # pointing to a day in the data sets\n",
    "    for d in range(k):\n",
    "        day=day+1\n",
    "        \n",
    "        # Prepare a notebook to keep track of entrance and exit given any initial state\n",
    "        notebook={'Die':0}\n",
    "        time=tree[node]['Time']\n",
    "        while time<datetime.strptime('11:59:59 PM', '%I:%M:%S %p'):\n",
    "            notebook[time]={'Revenue':0,'Delta_nM':0,'Delta_nH':0}\n",
    "            time=time+timedelta(minutes=Period)\n",
    "        nM=tree[node]['State']['nM'];nH=tree[node]['State']['nH']\n",
    "        \n",
    "        # Simulate when the outside monthly users return\n",
    "        if nM<NM:\n",
    "            search=0                                                                                     ######################## We need give a random number to find the day   \n",
    "            # Search in the data for a monthly user who left before the starting time given by the 'node'\n",
    "            for i in range(NM-nM):\n",
    "                while tree['DayOfWeek'][monthly_data['Weekday'].values[search]]==0:\n",
    "                    # Move on until we find the correct day\n",
    "                    search=search+1\n",
    "                    if search>=len(monthly_data):\n",
    "                        search=0\n",
    "                # t_1 stores the exit time and t_2 stores the return time\n",
    "                t_1=datetime.strptime(monthly_data['ExitTime'].values[search], '%I:%M:%S %p')\n",
    "                t_2=datetime.strptime(monthly_data['ReturnTime'].values[search], '%I:%M:%S %p')\n",
    "                # If the current time is between t_1 & t_2, we can use this record to simulate the return time\n",
    "                if tree[node]['Time']>t_1 and tree[node]['Time']<=t_2:\n",
    "                    time=tree[node]['Time']\n",
    "                    while time+timedelta(minutes=Period)<=t_2:\n",
    "                        time=time+timedelta(minutes=Period)\n",
    "                    # Find out when this user will return and record the time in the notebook\n",
    "                    notebook[time]['Delta_nM']=notebook[time]['Delta_nM']+1\n",
    "        # Simulate when the inside hourly users leave\n",
    "        if nH>0:\n",
    "            search=0                                                                                    ######################## We need give a random number to find the day\n",
    "            # Search in the data for an hourly user who entered before the starting time\n",
    "            for i in range(nH):\n",
    "                while tree['DayOfWeek'][hourly_data['Weekday'].values[search]]==0:\n",
    "                    search=search+1\n",
    "                    if search>=len(hourly_data):\n",
    "                        search=0\n",
    "                t_1=datetime.strptime(hourly_data['ArrivalTime'].values[search], '%I:%M:%S %p')\n",
    "                t_2=datetime.strptime(hourly_data['ExitTime'].values[search], '%I:%M:%S %p')\n",
    "                if tree[node]['Time']>t_1 and tree[node]['Time']<=t_2:\n",
    "                    time=tree[node]['Time']\n",
    "                    while time+timedelta(minutes=Period)<=t_2:\n",
    "                        time=time+timedelta(minutes=Period)\n",
    "                    notebook[time]['Delta_nH']=notebook[time]['Delta_nH']-1        # Initialize day and time for simulation\n",
    "                    \n",
    "        while tree['DayOfWeek'][hourly_data['Weekday'][day].values[0]]==0:\n",
    "            # Find the correct day for the simulation (the day indexes are the same in both data sets)\n",
    "            day=day+1\n",
    "            if day>hourly_data.index[len(hourly_data.index)-1]:\n",
    "                day=1\n",
    "        # Find out the total number of hourly users to come; the number of monthly users is known\n",
    "        total_H=len(hourly_data['Weekday'][day])\n",
    "        index_H=0;index_M=0\n",
    "        time=tree[node]['Time']\n",
    "        # Start expansion, selection, and simulation\n",
    "        pointer=node\n",
    "        # Continue until reaching the end of a day\n",
    "        while time<=datetime.strptime('11:59:59 PM', '%I:%M:%S %p'):\n",
    "            # Expanson\n",
    "            if len(tree[pointer]['Child'])==0:\n",
    "                Expand(tree, pointer)\n",
    "            # Selection\n",
    "            if tree[tree[pointer]['Child'][1]]['UCB']>tree[tree[pointer]['Child'][0]]['UCB']:\n",
    "                pointer=tree[pointer]['Child'][1]\n",
    "            else:\n",
    "                pointer=tree[pointer]['Child'][0]\n",
    "            # Simulation\n",
    "            if index_H>=total_H:\n",
    "                # If we run out of hourly users, just set the arrival time to the day end\n",
    "                t_1=datetime.strptime('12:0:0 AM','%I:%M:%S %p')+timedelta(days=1)\n",
    "            else:\n",
    "                # t_1 is the arrival time of the next hourly user\n",
    "                t_1=datetime.strptime(hourly_data['ArrivalTime'][day].values[index_H], '%I:%M:%S %p')\n",
    "            if index_M>=NM:\n",
    "                # If we run out of monthly users, just set the exit time to the day end\n",
    "                t_2=datetime.strptime('12:0:0 AM','%I:%M:%S %p')+timedelta(days=1)\n",
    "            else:\n",
    "                # t_2 is the exit time of the next monthly user\n",
    "                t_2=datetime.strptime(monthly_data['ExitTime'][day].values[index_M], '%I:%M:%S %p') \n",
    "            # Check for the next 15min whether there will be hourly users arriving or monthly users leaving\n",
    "            while t_1<time+timedelta(minutes=Period) or t_2<time+timedelta(minutes=Period):\n",
    "                # Check which comes first\n",
    "                if t_1<t_2:\n",
    "                    # If an hourly user comes first, check whether the door is open\n",
    "                    if tree[pointer]['Decision']=='Available':\n",
    "                        nM=tree[tree[pointer]['Parent']]['State']['nM']+notebook[time]['Delta_nM']\n",
    "                        nH=tree[tree[pointer]['Parent']]['State']['nH']+notebook[time]['Delta_nH']\n",
    "                        # Check whether arrive in this period and whether spaces are available\n",
    "                        if t_1>=time and nM+nH<NS:\n",
    "                            # If yes, record the revenue and write in the notebook\n",
    "                            notebook[time]['Revenue']=notebook[time]['Revenue']+hourly_data[\n",
    "                                'LengthOfStay'][day].values[index_H]\n",
    "                            notebook[time]['Delta_nH']=notebook[time]['Delta_nH']+1\n",
    "                            # Redefine t_1 and t_2 to be current and exit time\n",
    "                            t_1=time\n",
    "                            t_2=datetime.strptime(hourly_data['ExitTime'][day].values[index_H], '%I:%M:%S %p')\n",
    "                            # Check whether the exit time is before day end; if yes, update the notebook\n",
    "                            if t_2<datetime.strptime('12:0:0 AM','%I:%M:%S %p')+timedelta(days=1):\n",
    "                                while t_1+timedelta(minutes=Period)<=t_2:\n",
    "                                    t_1=t_1+timedelta(minutes=Period)\n",
    "                                notebook[t_1]['Delta_nH']=notebook[t_1]['Delta_nH']-1\n",
    "                    index_H=index_H+1\n",
    "                else:# If a monthly user leaves first\n",
    "                    if t_2>=time:\n",
    "                        notebook[time]['Delta_nM']=notebook[time]['Delta_nM']-1\n",
    "                        t_1=time\n",
    "                        t_2=datetime.strptime(monthly_data['ReturnTime'][day].values[index_M], '%I:%M:%S %p')\n",
    "                        if t_2<datetime.strptime('12:0:0 AM','%I:%M:%S %p')+timedelta(days=1): #monthly user returns within this day, update the notebook\n",
    "                            while t_1+timedelta(minutes=Period)<=t_2:\n",
    "                                t_1=t_1+timedelta(minutes=Period)\n",
    "                            notebook[t_1]['Delta_nM']=notebook[t_1]['Delta_nM']+1\n",
    "                    index_M=index_M+1 # go to next montly user\n",
    "                if index_H>=total_H:\n",
    "                    t_1=datetime.strptime('12:0:0 AM','%I:%M:%S %p')+timedelta(days=1)\n",
    "                else:\n",
    "                    t_1=datetime.strptime(hourly_data['ArrivalTime'][day].values[index_H], '%I:%M:%S %p')\n",
    "                if index_M>=NM:\n",
    "                    t_2=datetime.strptime('12:0:0 AM','%I:%M:%S %p')+timedelta(days=1)\n",
    "                else:\n",
    "                    t_2=datetime.strptime(monthly_data['ExitTime'][day].values[index_M], '%I:%M:%S %p') \n",
    "            # Now get the updated system state at the end of the 15min period\n",
    "            nM=tree[tree[pointer]['Parent']]['State']['nM']+notebook[time]['Delta_nM']\n",
    "            nH=tree[tree[pointer]['Parent']]['State']['nH']+notebook[time]['Delta_nH']\n",
    "            # Check if any monthly users are offended\n",
    "            if nM+nH>NS:\n",
    "                notebook['Die']=1\n",
    "                break\n",
    "            # Check if the state has been realized before\n",
    "            n_Child=len(tree[pointer]['Child'])\n",
    "            while n_Child>0:\n",
    "                if tree[tree[pointer]['Child'][n_Child-1]]['State']=={'nM':nM,'nH':nH}:\n",
    "                    pointer=tree[pointer]['Child'][n_Child-1]\n",
    "                    break\n",
    "                else:\n",
    "                    n_Child=n_Child-1\n",
    "            # If no, add a new decision node\n",
    "            if n_Child==0:\n",
    "                tree[len(tree)-1]={'Time':time+timedelta(minutes=Period),'Child':[],\n",
    "                                   'Parent':pointer,'State':{'nM':nM,'nH':nH},'Type':'D','n':0,'V':0}\n",
    "                tree[pointer]['Child'].append(len(tree)-2)\n",
    "                pointer=len(tree)-2\n",
    "            # Update the current system time\n",
    "            time=tree[pointer]['Time']\n",
    "        # Start backpropagation; BSR is the total revenue going forward in the simulation\n",
    "        BSR=0\n",
    "        while pointer>node:\n",
    "            pointer=tree[pointer]['Parent']\n",
    "            # Only update BSR if the node is a state-of-nature node (representing an option)\n",
    "            if tree[pointer]['Type']=='S':\n",
    "                BSR=BSR+notebook[tree[pointer]['Time']]['Revenue']*(1-notebook['Die'])\n",
    "            # Update V and n\n",
    "            tree[pointer]['V']=(tree[pointer]['V']*tree[pointer]['n']+BSR)/(tree[pointer]['n']+1)\n",
    "            tree[pointer]['n']=tree[pointer]['n']+1\n",
    "            # Only update UCB for a state-of-nature node\n",
    "            # Also update the N_i and UCB for options not chosen in this simulation\n",
    "            if tree[pointer]['Type']=='S':\n",
    "                tree[pointer]['UCB']=tree[pointer]['V']+2*(\n",
    "                    math.log(tree[tree[pointer]['Parent']]['n']+1)/tree[pointer]['n'])**0.5\n",
    "                if pointer==tree[tree[pointer]['Parent']]['Child'][0]:\n",
    "                    other=tree[tree[pointer]['Parent']]['Child'][1]\n",
    "                else:\n",
    "                    other=tree[tree[pointer]['Parent']]['Child'][0]\n",
    "                if tree[other]['n']>0:\n",
    "                    tree[other]['UCB']=tree[other]['V']+2*(\n",
    "                        math.log(tree[tree[other]['Parent']]['n']+1)/tree[other]['n'])**0.5"
   ]
  },
  {
   "cell_type": "code",
   "execution_count": 7,
   "metadata": {},
   "outputs": [],
   "source": [
    "def Optimization(tree, k):\n",
    "    node=0\n",
    "    while tree[node]['Time']<datetime.strptime('12:0:0 AM','%I:%M:%S %p')+timedelta(days=1):\n",
    "        print('Now is '+str(tree[node]['Time'].time())+'.')\n",
    "        if tree[node]['n']==0:\n",
    "            BuildTree(tree, node, k)\n",
    "        if tree[tree[node]['Child'][1]]['V']>tree[tree[node]['Child'][0]]['V']:\n",
    "            node=tree[node]['Child'][1]\n",
    "        else:\n",
    "            node=tree[node]['Child'][0]\n",
    "        print('For the next 15 min, show '+tree[node]['Decision']+'.')\n",
    "        print('During this 15 min:')\n",
    "        delta_nM=int(input('What is the net number of entrance of monthly users?'))\n",
    "        delta_nH=int(input('What is the net number of entrance of hourly users?'))\n",
    "        nM=tree[tree[node]['Parent']]['State']['nM']+delta_nM\n",
    "        nH=tree[tree[node]['Parent']]['State']['nH']+delta_nH\n",
    "        if nM+nH>NS:\n",
    "            print('Game Over!')\n",
    "            break\n",
    "        else:\n",
    "            n_Child=len(tree[node]['Child'])\n",
    "            while n_Child>0:\n",
    "                if tree[tree[node]['Child'][n_Child-1]]['State']=={'nM':nM,'nH':nH}:\n",
    "                    node=tree[node]['Child'][n_Child-1]\n",
    "                    break\n",
    "                else:\n",
    "                    n_Child=n_Child-1\n",
    "            if n_Child==0:\n",
    "                tree[len(tree)-1]={'Time':tree[node]['Time']+timedelta(minutes=Period),'Child':[],\n",
    "                                            'Parent':node,'State':{'nM':nM,'nH':nH},'Type':'D','n':0,'V':0}\n",
    "                tree[node]['Child'].append(len(tree)-2)\n",
    "                node=len(tree)-2"
   ]
  },
  {
   "cell_type": "code",
   "execution_count": 12,
   "metadata": {},
   "outputs": [],
   "source": [
    "weekday_tree={0:{'Time':datetime.strptime('12:0:0 AM','%I:%M:%S %p'),'Child':[],'State':state,\n",
    "                 'Type':'D','n':0,'V':0},'DayOfWeek':{1:1,2:1,3:1,4:1,5:1,6:0,7:0}}\n",
    "BuildTree(weekday_tree, 0, 500)"
   ]
  },
  {
   "cell_type": "markdown",
   "metadata": {},
   "source": [
    "Write down the tree in a csv. Delete the 'DayOfWeek' first"
   ]
  },
  {
   "cell_type": "code",
   "execution_count": 9,
   "metadata": {},
   "outputs": [],
   "source": [
    "weekday_tree.pop('DayOfWeek')\n",
    "tree_data=pd.DataFrame(data=weekday_tree)\n",
    "transposed_tree=tree_data.T\n",
    "transposed_tree.to_csv(\"tree_data.csv\")"
   ]
  },
  {
   "cell_type": "markdown",
   "metadata": {},
   "source": [
    "We need to add the 'DayOfWeek' back into the dictionary"
   ]
  },
  {
   "cell_type": "code",
   "execution_count": null,
   "metadata": {},
   "outputs": [
    {
     "name": "stdout",
     "output_type": "stream",
     "text": [
      "Now is 00:00:00.\n",
      "For the next 15 min, show Available.\n",
      "During this 15 min:\n",
      "What is the net number of entrance of monthly users?4\n",
      "What is the net number of entrance of hourly users?1\n",
      "Now is 00:15:00.\n",
      "For the next 15 min, show Available.\n",
      "During this 15 min:\n",
      "What is the net number of entrance of monthly users?0\n",
      "What is the net number of entrance of hourly users?0\n",
      "Now is 00:30:00.\n",
      "For the next 15 min, show Available.\n",
      "During this 15 min:\n"
     ]
    }
   ],
   "source": [
    "weekday_tree={0:{'Time':datetime.strptime('12:0:0 AM','%I:%M:%S %p'),'Child':[],'State':state,\n",
    "                 'Type':'D','n':0,'V':0},'DayOfWeek':{1:1,2:1,3:1,4:1,5:1,6:0,7:0}}\n",
    "BuildTree(weekday_tree, 0, 500)\n",
    "Optimization(weekday_tree, 500)"
   ]
  },
  {
   "cell_type": "code",
   "execution_count": null,
   "metadata": {},
   "outputs": [],
   "source": []
  }
 ],
 "metadata": {
  "kernelspec": {
   "display_name": "Python 3",
   "language": "python",
   "name": "python3"
  },
  "language_info": {
   "codemirror_mode": {
    "name": "ipython",
    "version": 3
   },
   "file_extension": ".py",
   "mimetype": "text/x-python",
   "name": "python",
   "nbconvert_exporter": "python",
   "pygments_lexer": "ipython3",
   "version": "3.7.3"
  }
 },
 "nbformat": 4,
 "nbformat_minor": 2
}
